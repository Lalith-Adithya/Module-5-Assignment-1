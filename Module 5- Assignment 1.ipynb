{
 "cells": [
  {
   "cell_type": "code",
   "execution_count": 11,
   "metadata": {},
   "outputs": [
    {
     "name": "stdout",
     "output_type": "stream",
     "text": [
      "6\n"
     ]
    }
   ],
   "source": [
    "#python program to SUM all items in a dictionary\n",
    "\n",
    "d={\"ford\":1,\"mercedes\":2,\"Ambasdor\":3}\n",
    "print(sum(d.values()))"
   ]
  },
  {
   "cell_type": "code",
   "execution_count": 14,
   "metadata": {},
   "outputs": [
    {
     "name": "stdout",
     "output_type": "stream",
     "text": [
      "triple camera\n"
     ]
    }
   ],
   "source": [
    "#Accesing an element from  dictionary\n",
    "\n",
    "a={\n",
    "    \"Apple\":\"iphone\",\n",
    "    \"model\":\"11pro\",\n",
    "    \"feature\":\"triple camera\"\n",
    "}\n",
    "x=a[\"feature\"]\n",
    "print(x)"
   ]
  },
  {
   "cell_type": "code",
   "execution_count": 10,
   "metadata": {},
   "outputs": [
    {
     "name": "stdout",
     "output_type": "stream",
     "text": [
      "Concatenated String=\n",
      "{'ford': 1, 'mercedes': 2, 'Ambasdor': 3, 'brand': 'ford', 'year': 1964}\n"
     ]
    }
   ],
   "source": [
    "#Program to concate two dictionaries\n",
    "\n",
    "d1={\"ford\":1,\"mercedes\":2,\"Ambasdor\":3}\n",
    "d2={\"brand\":\"ford\" ,\"year\":1964}\n",
    "d1.update(d2)\n",
    "print(\"Concatenated String=\")\n",
    "print(d1)"
   ]
  },
  {
   "cell_type": "code",
   "execution_count": 4,
   "metadata": {},
   "outputs": [
    {
     "name": "stdout",
     "output_type": "stream",
     "text": [
      "{'ford': 1, 'mercedes': 2, 'Ambasdor': 3}\n",
      "{'ford': 1, 'mercedes': 2, 'Ambasdor': 3, 'BMW': 'Black'}\n"
     ]
    }
   ],
   "source": [
    "#Program to ADD keys/values in a dictionary\n",
    "\n",
    "dict4={\"ford\":1,\"mercedes\":2,\"Ambasdor\":3}\n",
    "print(dict4)\n",
    "dict4[\"BMW\"]=\"Black\"\n",
    "print(dict4)"
   ]
  },
  {
   "cell_type": "code",
   "execution_count": 3,
   "metadata": {},
   "outputs": [
    {
     "name": "stdout",
     "output_type": "stream",
     "text": [
      "length= 3\n"
     ]
    }
   ],
   "source": [
    "#Program to Find Length of the dictionary\n",
    "\n",
    "dict5={\"ford\":1,\"mercedes\":2,\"Ambasdor\":3}\n",
    "print(\"length=\",len(dict5))"
   ]
  },
  {
   "cell_type": "code",
   "execution_count": 7,
   "metadata": {},
   "outputs": [
    {
     "name": "stdout",
     "output_type": "stream",
     "text": [
      "{'brand': 'ford', 'year': 1964}\n"
     ]
    }
   ],
   "source": [
    "#Program to remove items from the dictionary\n",
    "\n",
    "dict1={\"brand\":\"ford\" ,\"year\":1964,\"Dog\":10}\n",
    "dict1.popitem()                               #last added item is deleted/removed\n",
    "print(dict1)\n"
   ]
  },
  {
   "cell_type": "code",
   "execution_count": 1,
   "metadata": {},
   "outputs": [
    {
     "name": "stdout",
     "output_type": "stream",
     "text": [
      "{2: 'Harrry', 3: 'hermione'}\n"
     ]
    }
   ],
   "source": [
    "#Deleting the Dictionary's specific element\n",
    "\n",
    "dict10={1:\"ron\",2:\"Harrry\",3:\"hermione\"}\n",
    "del dict10[1]   #deleting the value\n",
    "print(dict10)"
   ]
  },
  {
   "cell_type": "code",
   "execution_count": null,
   "metadata": {},
   "outputs": [],
   "source": []
  }
 ],
 "metadata": {
  "kernelspec": {
   "display_name": "Python 3",
   "language": "python",
   "name": "python3"
  },
  "language_info": {
   "codemirror_mode": {
    "name": "ipython",
    "version": 3
   },
   "file_extension": ".py",
   "mimetype": "text/x-python",
   "name": "python",
   "nbconvert_exporter": "python",
   "pygments_lexer": "ipython3",
   "version": "3.8.3"
  }
 },
 "nbformat": 4,
 "nbformat_minor": 4
}
